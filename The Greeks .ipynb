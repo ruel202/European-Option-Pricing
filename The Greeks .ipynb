{
 "cells": [
  {
   "cell_type": "markdown",
   "id": "19b11988-1014-4405-8e7f-d27d615711df",
   "metadata": {},
   "source": [
    "## 1. Hedging"
   ]
  },
  {
   "cell_type": "markdown",
   "id": "df7200fa-f0de-40f3-9309-7aa5a742c094",
   "metadata": {},
   "source": [
    "### 1.1. Riskless and Risky asset \n",
    "<b> Riskless asset </b>\n",
    "1. At $t$ = 0, the riskless asset $B$ will have value $B(0)$ = 1\n",
    "2. At $t$ = 1, the riskless asset $B$ will have the same value in both states $B_{f_u}$ = $B_{f_d}$ = $R$\n",
    "\n",
    "<b> Risky asset </b>\n",
    "1. At $t$ = 0, the risky asset $S$ will have the known value $S(0)$\n",
    "2. At $t$ = 1, the risky asset $S$ will have two distinct possible value, in other words $S_{f_u}$ != $S_{f_d}$"
   ]
  },
  {
   "cell_type": "markdown",
   "id": "bab8c0c8-6b36-48c7-b11f-e6b79d755916",
   "metadata": {},
   "source": [
    "### 1.2. Derivative\n",
    "Often the value of $X(1)$ are uncertain because $X(1) = f(S(1))$ and $S(1)$ is uncertain. As $X$ is an asset whose value depends on $S$, it's a <b>derived asset </b> written on $S$, or a <b>derivative </b> or <b>contingent claim</b> on $S$\n"
   ]
  },
  {
   "cell_type": "markdown",
   "id": "74081d9f-7792-449f-9e51-22a0e7f89d72",
   "metadata": {},
   "source": [
    "### 1.3. Relative Pricing\n",
    "<p style=\"text-align: center;\">\n",
    "   $X(n,f_u)= [S(n,f_u)-K]^+= H_0R+H_1S(n,f_u)$\n",
    "   <br>$X(n,f_d)= [S(n,f_d)-K]^+=H_0R+H_1S(n,f_d)$\n",
    "</p>\n",
    "where $H_0$ is the number of money held at $t=0$ and $H_1$ is the number of stock held at $t=0$\n",
    "As $t$ changed, the held values don't change, but the underlying asset do change we have :\n",
    "<p style=\"text-align: center;\">\n",
    "   $H_0$= $\\frac{S(n,f_u)X(n,f_d)-S(n,f_d)X(N,f_u)}{R}$\n",
    "   <br>$H_1$ = $\\frac{X(n,f_u)-X(n,f_d)}{S(n,f_u)-S(n,f_d)}$\n",
    "</p>"
   ]
  },
  {
   "cell_type": "markdown",
   "id": "e421a0a6-1c7b-4be2-8a63-664c8bbc793e",
   "metadata": {},
   "source": [
    "## 1.4. Hedging Formulas\n",
    "Suppose that the general contingent claim that we are trying to hedge is denoted by $W$, and that $W(n,j)$ is its value at the correspond time. In fact, we can obtain the value of $W(n,j)$ from the W(N) by the backward recursion formula. In general :\n",
    "<p style=\"text-align: center;\">\n",
    "   $W(n+1,j+1)$= $H_0(n,j)R(n,j)+H_1(n,j)S(n+1,j+1)$\n",
    "   <br> $W(n+1,j)$= $H_0(n,j)R(n,j)+H_1(n,j)S(n+1,j)$\n",
    "   \n",
    "</p>"
   ]
  },
  {
   "cell_type": "markdown",
   "id": "5fbad79c-eec6-45d5-98d9-f5c09b58939a",
   "metadata": {},
   "source": [
    "And for the relative pricing :\n",
    "<p style=\"text-align: center;\">\n",
    "   $H_1(n,j)$= $\\frac{W(n+1,j+1)-W(n+1,j)}{S(n+1,j+1)-S(n+1,j)}$\n",
    "   <br>$H_0(n,j)$ = $W(n,f_u)-H_1(n,j)$\n",
    "</p>\n"
   ]
  },
  {
   "cell_type": "markdown",
   "id": "ec863866-2e35-45fd-b07a-97f2e88d1e2c",
   "metadata": {},
   "source": [
    "We call $H_1$ -  <b>hedge ratio</b> which indicate the level of exposure "
   ]
  },
  {
   "cell_type": "markdown",
   "id": "8b94b71d-d998-4044-b45e-3d5024ea3984",
   "metadata": {},
   "source": [
    "The formula  $W(n+1,.)-H_1(n,j)S(n+1,.)$ is <b>riskless</b>"
   ]
  },
  {
   "cell_type": "markdown",
   "id": "07728b09-85ac-4bf8-9673-afca18b22199",
   "metadata": {},
   "source": [
    "## 2. The Greeks "
   ]
  },
  {
   "cell_type": "markdown",
   "id": "e5fa937d-3114-49ae-82c1-5c08b4be65b1",
   "metadata": {},
   "source": [
    "Beside <b>valuing</b> and <b> hedging</b>, it's necessary to calculate the <b>sensitivities</b> of the values with respect to inputs "
   ]
  },
  {
   "cell_type": "markdown",
   "id": "98a0b604-8bbe-4eb0-8f81-0f7e1a86bf19",
   "metadata": {},
   "source": [
    "$N$ - cdf of normnal distribution"
   ]
  },
  {
   "cell_type": "markdown",
   "id": "117b64d3-6178-4794-bb62-97b603733182",
   "metadata": {},
   "source": [
    "### 2.1. The Delta ($\\Delta$)"
   ]
  },
  {
   "cell_type": "markdown",
   "id": "847a147d-0b86-473e-8f91-fe152050559d",
   "metadata": {},
   "source": [
    "The Delta of an option is the rate of change of the option's value with respect to the underlying .The financial meaning of delta refers to the amount by which the price of an option increases or decreases when the underlying asset price increases by one unit.<b> This indicates that small changes in the underlying asset price have little impact on the options price when it is deep out-of-the-money, while small changes in the underlying asset price can cause significant fluctuations in the option price when it is deep in-the-money and the magnitude of the fluctuations is roughly equal to that of the underlying asset.</b>\n",
    "\n",
    "For the call in BS this is :\n",
    "<p style=\"text-align: center;\">\n",
    "   $\\Delta C$ = $\\frac{\\delta C}{\\delta S}= N(d_1)$   \n",
    "</p>\n",
    "For the calll option $\\Delta$ lies in (0,1)\n",
    "<p style=\"text-align: center;\">\n",
    "   $\\Delta P$ = $\\frac{\\delta P}{\\delta S}= N(d_1) -1$\n",
    "</p>\n",
    "For the put option $\\Delta$ lies in (-1,0)\n"
   ]
  },
  {
   "cell_type": "markdown",
   "id": "6636cc81-2b40-4191-9bc3-9770b8a3c3df",
   "metadata": {},
   "source": [
    "The Delta can also be called hedge parameter, which give us the exposure of the option to the underlying \n",
    "<p style=\"text-align: center;\">\n",
    "   $\\Delta _n$ = $H_{1_n}$ = $\\frac{C(n,1)-C(n,0)}{S(n,1)-S(n,0)}$\n",
    "</p>"
   ]
  },
  {
   "cell_type": "markdown",
   "id": "dfad8ac2-c104-4153-b4e0-2b9bf9f9696f",
   "metadata": {},
   "source": [
    "### 2.2. The Gamma ($\\Gamma$)\n",
    "The Gamma is the rate of change of Delta with respect to the underlying. The gammas of call and put are actually the same, both reach to maximum during at-the-money. That means the magnitude of incremental of delta first accelerate then decelerate, when the underlying asset price moves from deeply out-of-the-money to deeply in-the-money\n",
    "\n",
    "For call option : \n",
    "<p style=\"text-align: center;\">\n",
    "   $\\Gamma_C$ = $\\frac{\\delta \\Delta C}{\\delta S}$= $\\frac{\\delta^2C}{\\delta S^2}$= $\\frac{N(d_1)}{S\\sigma\\sqrt{T}}$   \n",
    "</p>\n",
    "\n",
    "For put option:\n",
    "<p style=\"text-align: center;\">\n",
    "   $\\Gamma_C$ = $\\frac{\\delta \\Delta P}{\\delta S}= \\frac{\\delta^2P}{\\delta S^2}$= $\\frac{N(d_1)}{S\\sigma\\sqrt{T}}$   \n",
    "</p>\n",
    "\n",
    "Delta can be regarded as the hedge ratio. SO the Gamma givs the rate at which the hedge ratio is changing with changing value of the underlying.\n"
   ]
  },
  {
   "cell_type": "markdown",
   "id": "a035df7a-c5c0-446a-a1a3-ab2b6515eabc",
   "metadata": {},
   "source": [
    "### 2.3. The Theta ($\\Theta$)\n",
    "\n",
    "The meaning of theta is the amount by which the price of an option increases or decreases when the time to maturity increases by one unit.  Moreover, theta is always negative, because as the time moves, the time value of options gradually declines.\n",
    "\n",
    "For call option : \n",
    "<p style=\"text-align: center;\">\n",
    "   $\\Theta_C$ = $\\frac{\\delta C}{\\delta t}$= $\\frac{\\delta C}{\\delta T}$= $-\\frac{SN(d_1)\\delta}{2\\sqrt{T}} - rKe^{rT}N(d_2)$   \n",
    "</p>\n",
    "For put option: \n",
    "<p style=\"text-align: center;\">\n",
    "   $\\Theta_P$ = $\\frac{\\delta P}{\\delta t}$= $\\frac{\\delta P}{\\delta T}$= $-\\frac{SN(d_1)\\delta}{2\\sqrt{T}} + rKe^{rT}N(d_2)$   \n",
    "</p>\n",
    "\n",
    "<p style=\"text-align: center;\">\n",
    "   $\\Theta_C$ = $\\frac{C(i+2,j+1)-C(i,j)}{2\\Delta t}$\n",
    "</p>"
   ]
  },
  {
   "cell_type": "markdown",
   "id": "ad83cea2-bac9-43b1-8647-eb445aff4acf",
   "metadata": {},
   "source": [
    "### 2.4. The Vega ($\\kappa$)\n",
    "Vega is not a Greek letter, so weuse kappa($\\kappa$) to replace vega. Vega is the rate of change of the option price with the respect to $\\sigma$\n",
    "\n",
    "The meaning of vega refers to the amount by which the price of an option increases or decreases when the volatility of underlying asset price increases by one unit\n",
    "\n",
    "For the call and put option in BS model :\n",
    "<p style=\"text-align: center;\">\n",
    "   $\\kappa_C$ = $\\kappa_P$=$\\frac{\\delta C}{\\delta \\sigma}$= $S\\sqrt{T}N(d_1)$\n",
    "</p>"
   ]
  },
  {
   "cell_type": "markdown",
   "id": "b0a8e3e6-0ffe-4c00-92a5-6246a8a825c3",
   "metadata": {},
   "source": [
    "### 2.5. The Rho ($\\rho$)\n",
    "The rho ($\\rho$) is the <b>rate of change of the option price with respect to interst rates</b>\n",
    "\n",
    "Rho represents the amount by which the price of an option increases or decreases when the risk-free rate increases by one unit\n",
    "\n",
    "For call option : \n",
    "<p style=\"text-align: center;\">\n",
    "   $\\rho_C$ = $\\frac{\\delta C}{\\delta t}$= $ KTe^{-rT}N(d_2)$   \n",
    "</p>\n",
    "For put option: \n",
    "<p style=\"text-align: center;\">\n",
    "    $\\rho_P$ = $\\frac{\\delta P}{\\delta t}$= $ -KTe^{-rT}N(-d_2)$  \n",
    "</p>\n"
   ]
  },
  {
   "cell_type": "markdown",
   "id": "ada02bb8-d35b-4d34-82a6-5b104adb534b",
   "metadata": {},
   "source": [
    "## 3. S&P 500\n"
   ]
  },
  {
   "cell_type": "code",
   "execution_count": 1,
   "id": "4cb0a14c-7f59-4975-aff4-8a2bd51e9e15",
   "metadata": {},
   "outputs": [],
   "source": [
    "import Greeks\n",
    "from Greeks import BS_greeks\n",
    "import yfinance as yf\n",
    "import pandas as pd\n",
    "import matplotlib.pyplot as plt\n",
    "import numpy as np"
   ]
  },
  {
   "cell_type": "code",
   "execution_count": 2,
   "id": "72a2bd19-9aa0-4979-bb1f-eca082a45668",
   "metadata": {},
   "outputs": [
    {
     "name": "stderr",
     "output_type": "stream",
     "text": [
      "[*********************100%%**********************]  503 of 503 completed\n",
      "\n",
      "503 Failed downloads:\n",
      "['VRSN', 'DFS', 'LH', 'PFE', 'MMM', 'MRK', 'MS', 'RTX', 'TJX', 'ORCL', 'MTD', 'LRCX', 'ESS', 'SJM', 'APH', 'NOC', 'EQIX', 'LDOS', 'BX', 'NTRS', 'L', 'ROL', 'AME', 'LHX', 'CRM', 'BWA', 'FDS', 'CBRE', 'EW', 'ANSS', 'AMGN', 'RSG', 'LVS', 'MDT', 'NVR', 'INTU', 'ALLE', 'STX', 'A', 'ILMN', 'MAA', 'TMUS', 'COR', 'MSI', 'MCHP', 'JPM', 'K', 'EXR', 'VLTO', 'LUV', 'BG', 'CSX', 'AZO', 'J', 'ZBH', 'MKC', 'MCK', 'GLW', 'CARR', 'T', 'AAL', 'PHM', 'TFX', 'POOL', 'BK', 'KEYS', 'GS', 'TDY', 'AXON', 'REGN', 'AES', 'FCX', 'HAL', 'DLR', 'UNP', 'HOLX', 'XYL', 'CME', 'USB', 'CL', 'MAR', 'DVA', 'CMCSA', 'IR', 'ECL', 'AOS', 'SBUX', 'QCOM', 'LOW', 'BEN', 'MGM', 'CMI', 'DHR', 'PG', 'ABNB', 'MPWR', 'SOLV', 'GWW', 'GILD', 'NEE', 'CCL', 'BALL', 'META', 'ABBV', 'TMO', 'NDSN', 'FMC', 'ADP', 'DTE', 'FI', 'SNA', 'CPB', 'APTV', 'GPN', 'LEN', 'ETN', 'COST', 'IP', 'RF', 'GOOGL', 'CZR', 'PNC', 'LYV', 'DG', 'WFC', 'ACGL', 'SYF', 'AMCR', 'DECK', 'HBAN', 'CHTR', 'DLTR', 'JBL', 'UNH', 'DE', 'CDNS', 'PLD', 'HPQ', 'SWK', 'MU', 'AVY', 'FOX', 'PCAR', 'CNC', 'WTW', 'NKE', 'DPZ', 'BBWI', 'TXN', 'CSCO', 'TSCO', 'HSY', 'KEY', 'AJG', 'MTCH', 'TSN', 'DAY', 'NDAQ', 'BKNG', 'SYK', 'AFL', 'JBHT', 'MPC', 'MDLZ', 'CB', 'BAC', 'YUM', 'MOH', 'NVDA', 'ADBE', 'TEL', 'CE', 'TRMB', 'VRTX', 'UBER', 'FE', 'LW', 'JCI', 'KIM', 'TGT', 'NXPI', 'GPC', 'DGX', 'ISRG', 'CMG', 'AKAM', 'JNPR', 'PEP', 'MOS', 'CVX', 'ULTA', 'PYPL', 'MCD', 'COF', 'BDX', 'AMT', 'ARE', 'KO', 'AIZ', 'NOW', 'CTRA', 'BF.B', 'ON', 'HUBB', 'KR', 'DUK', 'LLY', 'VMC', 'MLM', 'XEL', 'MO', 'LMT', 'FSLR', 'SLB', 'F', 'PTC', 'NCLH', 'AMAT', 'ALL', 'EFX', 'CF', 'AWK', 'CPAY', 'TDG', 'PFG', 'CTSH', 'GOOG', 'DRI', 'MSCI', 'MCO', 'KMI', 'LYB', 'TT', 'V', 'BXP', 'VTR', 'SHW', 'AON', 'BLDR', 'RL', 'TTWO', 'BAX', 'WEC', 'CINF', 'ELV', 'NTAP', 'CNP', 'LKQ', 'TRV', 'CCI', 'WRB', 'STLD', 'EMN', 'TROW', 'ADSK', 'OTIS', 'PRU', 'DVN', 'ANET', 'APD', 'MA', 'FDX', 'FRT', 'HST', 'ODFL', 'BLK', 'GL', 'GIS', 'AMD', 'BBY', 'TFC', 'HIG', 'UHS', 'RMD', 'APA', 'EVRG', 'PCG', 'PSA', 'VTRS', 'NWSA', 'DHI', 'MNST', 'EBAY', 'IVZ', 'MRO', 'PGR', 'INTC', 'AVGO', 'AVB', 'PODD', 'CBOE', 'MAS', 'PM', 'ICE', 'STZ', 'CPRT', 'GM', 'WY', 'UDR', 'ROST', 'ORLY', 'CFG', 'HUM', 'PSX', 'PPG', 'ED', 'EXC', 'FTNT', 'LNT', 'MHK', 'DAL', 'ACN', 'DOV', 'GD', 'AAPL', 'ATO', 'CAG', 'CAT', 'SWKS', 'SYY', 'XOM', 'AIG', 'EIX', 'AMP', 'BRO', 'SPG', 'PWR', 'PH', 'AXP', 'IRM', 'STT', 'SRE', 'REG', 'FTV', 'WM', 'LULU', 'FIS', 'GRMN', 'WELL', 'BMY', 'BIIB', 'GEN', 'TAP', 'HD', 'CLX', 'DIS', 'TXT', 'BA', 'CDW', 'CTLT', 'TSLA', 'ROP', 'IDXX', 'KLAC', 'HAS', 'JKHY', 'CRL', 'PANW', 'HON', 'HSIC', 'PNR', 'WMB', 'UPS', 'PARA', 'NFLX', 'STE', 'COP', 'DD', 'WMT', 'DXCM', 'O', 'NSC', 'EQR', 'D', 'IQV', 'CTVA', 'ZBRA', 'GEV', 'TPR', 'BSX', 'KMB', 'KDP', 'EPAM', 'CSGP', 'FICO', 'SBAC', 'SCHW', 'ITW', 'PAYX', 'CPT', 'EA', 'CVS', 'HII', 'RHI', 'PEG', 'RVTY', 'CAH', 'ABT', 'ADM', 'EG', 'BKR', 'DOW', 'RCL', 'MMC', 'KMX', 'AEE', 'MRNA', 'AEP', 'ES', 'OXY', 'ZTS', 'TRGP', 'IPG', 'CTAS', 'EMR', 'COO', 'ETR', 'VRSK', 'SNPS', 'FAST', 'WBD', 'CHD', 'IT', 'SO', 'HCA', 'PNW', 'NEM', 'ADI', 'INVH', 'QRVO', 'INCY', 'CEG', 'FANG', 'MSFT', 'WRK', 'C', 'HES', 'SMCI', 'GNRC', 'OMC', 'CMS', 'MKTX', 'PKG', 'NWS', 'EXPD', 'IEX', 'HLT', 'UAL', 'KHC', 'WAT', 'TER', 'FFIV', 'ALB', 'VLO', 'JNJ', 'EOG', 'ETSY', 'VST', 'NI', 'URI', 'VICI', 'KVUE', 'ROK', 'HPE', 'EL', 'AMZN', 'OKE', 'NRG', 'VZ', 'WDC', 'WAB', 'WST', 'PAYC', 'EXPE', 'TECH', 'FITB', 'MET', 'CHRW', 'HWM', 'IBM', 'WBA', 'BIO', 'WYNN', 'CI', 'HRL', 'SPGI', 'ENPH', 'EQT', 'LIN', 'NUE', 'DOC', 'FOXA', 'ALGN', 'TYL', 'RJF', 'GE', 'PPL', 'GEHC', 'MTB', 'BR', 'CMA', 'IFF']: Exception('%ticker%: No price data found, symbol may be delisted (1d 2024-06-19 -> 2024-06-19)')\n",
      "['BRK.B']: Exception('%ticker%: No timezone found, symbol may be delisted')\n"
     ]
    },
    {
     "name": "stdout",
     "output_type": "stream",
     "text": [
      "Empty DataFrame\n",
      "Columns: [A, AAL, AAPL, ABBV, ABNB, ABT, ACGL, ACN, ADBE, ADI, ADM, ADP, ADSK, AEE, AEP, AES, AFL, AIG, AIZ, AJG, AKAM, ALB, ALGN, ALL, ALLE, AMAT, AMCR, AMD, AME, AMGN, AMP, AMT, AMZN, ANET, ANSS, AON, AOS, APA, APD, APH, APTV, ARE, ATO, AVB, AVGO, AVY, AWK, AXON, AXP, AZO, BA, BAC, BALL, BAX, BBWI, BBY, BDX, BEN, BF.B, BG, BIIB, BIO, BK, BKNG, BKR, BLDR, BLK, BMY, BR, BRK.B, BRO, BSX, BWA, BX, BXP, C, CAG, CAH, CARR, CAT, CB, CBOE, CBRE, CCI, CCL, CDNS, CDW, CE, CEG, CF, CFG, CHD, CHRW, CHTR, CI, CINF, CL, CLX, CMA, CMCSA, ...]\n",
      "Index: []\n",
      "\n",
      "[0 rows x 503 columns]\n"
     ]
    }
   ],
   "source": [
    " table = pd.read_html('https://en.wikipedia.org/wiki/List_of_S%26P_500_companies')\n",
    " df = table[0]\n",
    " stockdata = df['Symbol'].to_list()\n",
    " full_stock_data = yf.download(stockdata, '2024-06-19', '2024-06-19')\n",
    " print(full_stock_data['Volume'])"
   ]
  },
  {
   "cell_type": "code",
   "execution_count": 3,
   "id": "36b5c675-163f-4a01-a1b2-0d9384ddde69",
   "metadata": {},
   "outputs": [
    {
     "name": "stderr",
     "output_type": "stream",
     "text": [
      "C:\\Users\\famcha\\AppData\\Local\\Packages\\PythonSoftwareFoundation.Python.3.12_qbz5n2kfra8p0\\LocalCache\\local-packages\\Python312\\site-packages\\yfinance\\utils.py:775: FutureWarning: The 'unit' keyword in TimedeltaIndex construction is deprecated and will be removed in a future version. Use pd.to_timedelta instead.\n",
      "  df.index += _pd.TimedeltaIndex(dst_error_hours, 'h')\n",
      "[*********************100%%**********************]  1 of 1 completed"
     ]
    },
    {
     "name": "stdout",
     "output_type": "stream",
     "text": [
      "Date\n",
      "2024-05-20    136.949997\n",
      "2024-05-21    137.270004\n",
      "2024-05-22    136.889999\n",
      "2024-05-23    135.399994\n",
      "2024-05-24    136.339996\n",
      "2024-05-28    133.679993\n",
      "2024-05-29    131.949997\n",
      "2024-05-30    133.240005\n",
      "2024-05-31    133.899994\n",
      "2024-06-03    133.649994\n",
      "2024-06-04    134.759995\n",
      "2024-06-05    135.339996\n",
      "2024-06-06    134.860001\n",
      "2024-06-07    133.789993\n",
      "2024-06-10    133.880005\n",
      "2024-06-11    134.589996\n",
      "2024-06-12    136.050003\n",
      "2024-06-13    135.259995\n",
      "2024-06-14    135.669998\n",
      "2024-06-17    136.199997\n",
      "2024-06-18    136.380005\n",
      "Name: Close, dtype: float64\n"
     ]
    },
    {
     "name": "stderr",
     "output_type": "stream",
     "text": [
      "\n"
     ]
    }
   ],
   "source": [
    "ice = yf.download([\"ICE\"], start=\"2024-05-18\", end=\"2024-06-19\")['Close']\n",
    "print(ice)"
   ]
  },
  {
   "cell_type": "raw",
   "id": "f171d957-1334-4623-90ab-e1f5d2ba659d",
   "metadata": {},
   "source": [
    "plt.figure(figsize=(20,10))\n",
    "plt.plot(ice)\n",
    "plt.xlabel('Date')\n",
    "plt.title('Close price of Intercontinental Exchange in one month')\n",
    "plt.ylabel('Price')\n"
   ]
  },
  {
   "cell_type": "code",
   "execution_count": 24,
   "id": "d9c3c325-fdd3-42b8-8931-446082218ea5",
   "metadata": {},
   "outputs": [
    {
     "name": "stdout",
     "output_type": "stream",
     "text": [
      "Initial Price 138.80， volatility 1.374， Maturity(ratio days) 0.238\n",
      "Call price: 32.7611，Put price: 42.5428\n",
      "Call_delta: 0.5448，P_delta: -0.4552\n",
      "C_gamma: 0.0059，P_gamma: 0.0043\n",
      "C_vega: 36.9003，P_vega: 36.9003\n",
      "C_theta: -79.1820，P_theta: -75.7616\n",
      "C_rho: 10.2053，P_rho: -25.1713\n"
     ]
    }
   ],
   "source": [
    "K= 150\n",
    "T= 60/252\n",
    "r= 0.0399 #yahoo\n",
    "S=138.8\n",
    "sigma=np.std(ice)\n",
    "\n",
    "#calculate the call and put option\n",
    "bs=BS_greeks(S, K, r, sigma, T)\n",
    "c,p= bs. price()\n",
    "c_delta, p_delta = bs.delta()\n",
    "c_gamma, p_gamma = bs.gamma()\n",
    "c_vega, p_vega = bs.vega()\n",
    "c_theta, p_theta = bs.theta()\n",
    "c_rho, p_rho = bs.rho()\n",
    "\n",
    "\n",
    "print('Initial Price %.2f， volatility %.3f， Maturity(ratio days) %.3f'%(S, sigma, T))\n",
    "print('Call price: %.4f，Put price: %.4f' %(c,p))\n",
    "print('Call_delta: %.4f，P_delta: %.4f' %(c_delta,p_delta))\n",
    "print('C_gamma: %.4f，P_gamma: %.4f' %(c_gamma,p_gamma))\n",
    "print('C_vega: %.4f，P_vega: %.4f' %(c_vega,p_vega))\n",
    "print('C_theta: %.4f，P_theta: %.4f' %(c_theta,p_theta))\n",
    "print('C_rho: %.4f，P_rho: %.4f' %(c_rho,p_rho))\n",
    "\n"
   ]
  }
 ],
 "metadata": {
  "kernelspec": {
   "display_name": "Python 3 (ipykernel)",
   "language": "python",
   "name": "python3"
  },
  "language_info": {
   "codemirror_mode": {
    "name": "ipython",
    "version": 3
   },
   "file_extension": ".py",
   "mimetype": "text/x-python",
   "name": "python",
   "nbconvert_exporter": "python",
   "pygments_lexer": "ipython3",
   "version": "3.12.3"
  }
 },
 "nbformat": 4,
 "nbformat_minor": 5
}

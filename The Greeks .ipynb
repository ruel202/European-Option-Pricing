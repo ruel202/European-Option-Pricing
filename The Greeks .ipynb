{
 "cells": [
  {
   "cell_type": "markdown",
   "id": "19b11988-1014-4405-8e7f-d27d615711df",
   "metadata": {},
   "source": [
    "## 1. Hedging"
   ]
  },
  {
   "cell_type": "markdown",
   "id": "df7200fa-f0de-40f3-9309-7aa5a742c094",
   "metadata": {},
   "source": [
    "### 1.1. Riskless and Risky asset \n",
    "<b> Riskless asset </b>\n",
    "1. At $t$ = 0, the riskless asset $B$ will have value $B(0)$ = 1\n",
    "2. At $t$ = 1, the riskless asset $B$ will have the same value in both states $B_{f_u}$ = $B_{f_d}$ = $R$\n",
    "\n",
    "<b> Risky asset </b>\n",
    "1. At $t$ = 0, the risky asset $S$ will have the known value $S(0)$\n",
    "2. At $t$ = 1, the risky asset $S$ will have two distinct possible value, in other words $S_{f_u}$ != $S_{f_d}$"
   ]
  },
  {
   "cell_type": "markdown",
   "id": "bab8c0c8-6b36-48c7-b11f-e6b79d755916",
   "metadata": {},
   "source": [
    "### 1.2. Derivative\n",
    "Often the value of $X(1)$ are uncertain because $X(1) = f(S(1))$ and $S(1)$ is uncertain. As $X$ is an asset whose value depends on $S$, it's a <b>derived asset </b> written on $S$, or a <b>derivative </b> or <b>contingent claim</b> on $S$\n"
   ]
  },
  {
   "cell_type": "markdown",
   "id": "74081d9f-7792-449f-9e51-22a0e7f89d72",
   "metadata": {},
   "source": [
    "### 1.3. Relative Pricing\n",
    "<p style=\"text-align: center;\">\n",
    "   $X(n,f_u)= [S(n,f_u)-K]^+= H_0R+H_1S(n,f_u)$\n",
    "   <br>$X(n,f_d)= [S(n,f_d)-K]^+=H_0R+H_1S(n,f_d)$\n",
    "</p>\n",
    "where $H_0$ is the number of money held at $t=0$ and $H_1$ is the number of stock held at $t=0$\n",
    "As $t$ changed, the held values don't change, but the underlying asset do change we have :\n",
    "<p style=\"text-align: center;\">\n",
    "   $H_0$= $\\frac{S(n,f_u)X(n,f_d)-S(n,f_d)X(N,f_u)}{R}$\n",
    "   <br>$H_1$ = $\\frac{X(n,f_u)-X(n,f_d)}{S(n,f_u)-S(n,f_d)}$\n",
    "</p>"
   ]
  },
  {
   "cell_type": "markdown",
   "id": "e421a0a6-1c7b-4be2-8a63-664c8bbc793e",
   "metadata": {},
   "source": [
    "## 1.4. Hedging Formulas\n",
    "Suppose that the general contingent claim that we are trying to hedge is denoted by $W$, and that $W(n,j)$ is its value at the correspond time. In fact, we can obtain the value of $W(n,j)$ from the W(N) by the backward recursion formula. In general :\n",
    "<p style=\"text-align: center;\">\n",
    "   $W(n+1,j+1)$= $H_0(n,j)R(n,j)+H_1(n,j)S(n+1,j+1)$\n",
    "   <br> $W(n+1,j)$= $H_0(n,j)R(n,j)+H_1(n,j)S(n+1,j)$\n",
    "   \n",
    "</p>"
   ]
  },
  {
   "cell_type": "markdown",
   "id": "5fbad79c-eec6-45d5-98d9-f5c09b58939a",
   "metadata": {},
   "source": [
    "And for the relative pricing :\n",
    "<p style=\"text-align: center;\">\n",
    "   $H_1(n,j)$= $\\frac{W(n+1,j+1)-W(n+1,j)}{S(n+1,j+1)-S(n+1,j)}$\n",
    "   <br>$H_0(n,j)$ = $W(n,f_u)-H_1(n,j)$\n",
    "</p>\n"
   ]
  },
  {
   "cell_type": "markdown",
   "id": "ec863866-2e35-45fd-b07a-97f2e88d1e2c",
   "metadata": {},
   "source": [
    "We call $H_1$ -  <b>hedge ratio</b> which indicate the level of exposure "
   ]
  },
  {
   "cell_type": "markdown",
   "id": "8b94b71d-d998-4044-b45e-3d5024ea3984",
   "metadata": {},
   "source": [
    "The formula  $W(n+1,.)-H_1(n,j)S(n+1,.)$ is <b>riskless</b>"
   ]
  },
  {
   "cell_type": "markdown",
   "id": "07728b09-85ac-4bf8-9673-afca18b22199",
   "metadata": {},
   "source": [
    "## 2. The Greeks "
   ]
  },
  {
   "cell_type": "markdown",
   "id": "e5fa937d-3114-49ae-82c1-5c08b4be65b1",
   "metadata": {},
   "source": [
    "Beside <b>valuing</b> and <b> hedging</b>, it's necessary to calculate the <b>sensitivities</b> of the values with respect to inputs "
   ]
  },
  {
   "cell_type": "markdown",
   "id": "117b64d3-6178-4794-bb62-97b603733182",
   "metadata": {},
   "source": [
    "### 2.1. The Delta ($\\Delta$)"
   ]
  },
  {
   "cell_type": "markdown",
   "id": "847a147d-0b86-473e-8f91-fe152050559d",
   "metadata": {},
   "source": [
    "The Delta of an option is the rate of change of the option's value with respect to the underlying . For the call in BS this is :\n",
    "<p style=\"text-align: center;\">\n",
    "   $\\Delta C$ = $\\frac{\\delta C}{\\delta S}= N(d_1)$   \n",
    "</p>\n",
    "For the calll option $\\Delta$ lies in (0,1)\n",
    "<p style=\"text-align: center;\">\n",
    "   $\\Delta P$ = $\\frac{\\delta P}{\\delta S}= N(d_1) -1$\n",
    "</p>\n",
    "For the put option $\\Delta$ lies in (-1,0)\n"
   ]
  },
  {
   "cell_type": "markdown",
   "id": "6636cc81-2b40-4191-9bc3-9770b8a3c3df",
   "metadata": {},
   "source": [
    "The Delta can also be called hedge parameter, which give us the exposure of the option to the underlying \n",
    "<p style=\"text-align: center;\">\n",
    "   $\\Delta _n$ = $H_{1_n}$ = $\\frac{C(n,1)-C(n,0)}{S(n,1)-S(n,0)}$\n",
    "</p>"
   ]
  },
  {
   "cell_type": "markdown",
   "id": "dfad8ac2-c104-4153-b4e0-2b9bf9f9696f",
   "metadata": {},
   "source": [
    "### 2.2. The Gamma ($\\Gamma$)\n",
    "The Gamma is the rate of change of Delta with respect to the underlying. \n",
    "\n",
    "For call option : \n",
    "<p style=\"text-align: center;\">\n",
    "   $\\Gamma_C$ = $\\frac{\\delta \\Delta C}{\\delta S}$= $\\frac{\\delta^2C}{\\delta S^2}$= $\\frac{n(d_1)}{S\\sigma\\sqrt{T}}$   \n",
    "</p>\n",
    "\n",
    "For put option:\n",
    "<p style=\"text-align: center;\">\n",
    "   $\\Gamma_C$ = $\\frac{\\delta \\Delta P}{\\delta S}= \\frac{\\delta^2P}{\\delta S^2}$= $\\frac{n(d_1)}{S\\sigma\\sqrt{T}}$   \n",
    "</p>\n",
    "\n",
    "Delta can be regarded as the hedge ratio. SO the Gamma givs the rate at which the hedge ratio is changing with changing value of the underlying.\n"
   ]
  },
  {
   "cell_type": "markdown",
   "id": "a035df7a-c5c0-446a-a1a3-ab2b6515eabc",
   "metadata": {},
   "source": [
    "### 2.3. The Theta ($\\Theta$)\n",
    "For call option : \n",
    "<p style=\"text-align: center;\">\n",
    "   $\\Theta_C$ = $\\frac{\\delta C}{\\delta t}$= $\\frac{\\delta C}{\\delta T}$= $-\\frac{S(0)n(d_1)\\delta}{2\\sqrt{T}} - rKe^{rT}N(d_2)$   \n",
    "</p>\n",
    "For put option: \n",
    "<p style=\"text-align: center;\">\n",
    "   $\\Theta_P$ = $\\frac{\\delta P}{\\delta t}$= $\\frac{\\delta P}{\\delta T}$= $-\\frac{S(0)n(d_1)\\delta}{2\\sqrt{T}} + rKe^{rT}N(d_2)$   \n",
    "</p>\n",
    "\n",
    "<p style=\"text-align: center;\">\n",
    "   $\\Theta_C$ = $\\frac{C(i+2,j+1)-C(i,j)}{2\\Delta t}$\n",
    "</p>"
   ]
  },
  {
   "cell_type": "markdown",
   "id": "ad83cea2-bac9-43b1-8647-eb445aff4acf",
   "metadata": {},
   "source": [
    "### 2.4. The Vega ($\\kappa$)\n",
    "Vega is not a Greek letter, so weuse kappa($\\kappa$) to replace vega. Vega is the rate of change of the option price with the respect to $\\sigma$\n",
    "\n",
    "For the call and put option in BS model :\n",
    "<p style=\"text-align: center;\">\n",
    "   $\\kappa_C$ = $\\kappa_P$=$\\frac{\\delta C}{\\delta \\sigma}$= $S(0)\\sqrt{T}n(d_1)$\n",
    "</p>"
   ]
  },
  {
   "cell_type": "markdown",
   "id": "b0a8e3e6-0ffe-4c00-92a5-6246a8a825c3",
   "metadata": {},
   "source": [
    "### 2.5. The Rho ($\\rho$)\n",
    "The rho ($\\rho$) is the <b>rate of change of the option price with respect to interst rates</b>\n",
    "\n",
    "For call option : \n",
    "<p style=\"text-align: center;\">\n",
    "   $\\rho_C$ = $\\frac{\\delta C}{\\delta t}$= $ KTe^{-rT}N(d_2)$   \n",
    "</p>\n",
    "For put option: \n",
    "<p style=\"text-align: center;\">\n",
    "    $\\rho_P$ = $\\frac{\\delta P}{\\delta t}$= $ -KTe^{-rT}N(-d_2)$  \n",
    "</p>\n"
   ]
  }
 ],
 "metadata": {
  "kernelspec": {
   "display_name": "Python 3 (ipykernel)",
   "language": "python",
   "name": "python3"
  },
  "language_info": {
   "codemirror_mode": {
    "name": "ipython",
    "version": 3
   },
   "file_extension": ".py",
   "mimetype": "text/x-python",
   "name": "python",
   "nbconvert_exporter": "python",
   "pygments_lexer": "ipython3",
   "version": "3.12.3"
  }
 },
 "nbformat": 4,
 "nbformat_minor": 5
}

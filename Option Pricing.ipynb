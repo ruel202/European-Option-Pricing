{
 "cells": [
  {
   "cell_type": "markdown",
   "id": "979aa2b7-303b-4184-b924-f8de0e8c0e29",
   "metadata": {},
   "source": [
    "# Option Pricing \n"
   ]
  },
  {
   "cell_type": "markdown",
   "id": "23001911-bb58-46a1-aeb1-65aadb14114e",
   "metadata": {},
   "source": [
    "In finance, an option is a contract which conveys to its owner, the holder, the right, but not the obligation, to buy or sell a specific quantity of an underlying asset or instrument at a specified strike price on or before a <b>specified date</b>, depending on the style of the option. "
   ]
  },
  {
   "cell_type": "markdown",
   "id": "591122b8-abe0-4fb4-9e50-3e197cb6a045",
   "metadata": {},
   "source": [
    "## 1. Option types \n"
   ]
  },
  {
   "cell_type": "markdown",
   "id": "e86a2a08-c9d2-40fc-9f34-7b32627afc58",
   "metadata": {},
   "source": [
    "<b>Call</b>: The right to buy an asset (the underlying asset) for a given\n",
    "price (exercise price) on or before a given date (expiration date)\n",
    "<p><b>Put</b>: The right to sell an asset for a given price on or before the\n",
    "expiration date"
   ]
  },
  {
   "cell_type": "markdown",
   "id": "095c897f-9b5a-4361-8c1e-e88be016834f",
   "metadata": {},
   "source": [
    "## 2. Elements of a contract "
   ]
  },
  {
   "cell_type": "markdown",
   "id": "060a5379-cecd-4ebb-b021-bb620a92b376",
   "metadata": {},
   "source": [
    "A financial option is a contract between two counterparties with the terms of the option specified in a term sheet."
   ]
  },
  {
   "cell_type": "markdown",
   "id": "daa70b17-899c-4448-a86a-981018041f92",
   "metadata": {},
   "source": [
    "1. The right to buy (call option) and the right to sell (put option) of holder\n",
    "2. The quantity of underlying asset (commodities, stocks, bonds, currencies,..)(derivative assets are financial investments whose prices depend on other underlying assets)\n",
    "3. The strike price, also known as the exercise price\n",
    "4. The expiration date, or expiry, which is the last date the option can be exercised\n",
    "5. The settlement terms, for instance, whether the writer must deliver the actual asset on exercise, or may simply tender the equivalent cash amount\n",
    "6. The total amount paid by the holder to the writer"
   ]
  },
  {
   "cell_type": "markdown",
   "id": "d5bb45c9-4adb-4103-b7c5-b85d4fbd283b",
   "metadata": {},
   "source": [
    "Payoff function : Payoffs of calls and puts can be described by plotting theirs payoffs at expiraton as function of the price of the underlying asset"
   ]
  },
  {
   "cell_type": "markdown",
   "id": "610da265-c38f-4950-bd0f-7c11cb303f8c",
   "metadata": {},
   "source": [
    "## 3. Trading "
   ]
  },
  {
   "cell_type": "markdown",
   "id": "3aa62495-7b6b-47d8-8940-66153f648465",
   "metadata": {},
   "source": [
    "### 3.1 Forms of trading "
   ]
  },
  {
   "cell_type": "markdown",
   "id": "172cbf9a-440a-4fe7-bb22-dcfb50a81270",
   "metadata": {},
   "source": [
    "1. Exchange-traded options : Stocks, bond, interest rate,...\n",
    "2. Over-the-counter options : currency cross rate, swaps,... "
   ]
  },
  {
   "cell_type": "markdown",
   "id": "256eb299-bf67-4dea-9b7a-8de7eb549fb7",
   "metadata": {},
   "source": [
    "### 3.2 Long-short Options"
   ]
  },
  {
   "cell_type": "markdown",
   "id": "b0bdbc78-c0f8-4393-a6b6-9b207411a325",
   "metadata": {},
   "source": [
    "1. Long call : A trader who expects a stock's price to increase <b>can buy a call option</b> to purchase the stock at a fixed price (strike price) at a later date (<b>Buying the right to purchase in the future with current price</b>)\n",
    "2. Long put : A trader who expects a stock's price to decrease <b>can buy a put option </b>to sell the stock at a fixed price (strike price) at a later date (<b>Buying the right to sell in the future at current price</b>)"
   ]
  },
  {
   "cell_type": "markdown",
   "id": "4d934381-001d-4f77-8140-5677eeecc322",
   "metadata": {},
   "source": [
    "1. Short call : A trader who expects a stock's price to decrease <b>can sell the stock</b>short or instead sell, or \"write\", a call. The trader selling a call has an obligation to sell the stock to the call buyer at a fixed price (<b>Selling the right to sell in the future with current price</b>)\n",
    "2. Short put : A trader who expects a stock's price to increase<b> can buy the stock or instead sell</b>, or \"write\", a put. The trader selling a put has an obligation to buy the stock from the put buyer at a fixed price (\"strike price\")(<b>Selling the right to buy in the future with current price</b>)"
   ]
  },
  {
   "cell_type": "markdown",
   "id": "38e719b5-02cf-4011-b5dd-7100d0b87d13",
   "metadata": {},
   "source": [
    "### 3.3 Options Strategies "
   ]
  },
  {
   "cell_type": "markdown",
   "id": "cc9f38a3-99e8-473c-be3d-e284b50083cf",
   "metadata": {},
   "source": [
    "1. Call 1 - Call 2\n",
    "2. Call + Put\n",
    "3. Stock + Put"
   ]
  },
  {
   "cell_type": "markdown",
   "id": "0ebd9299-11fd-4bfd-8a23-20504e4bdb8c",
   "metadata": {},
   "source": [
    "## 4. Options style "
   ]
  },
  {
   "cell_type": "markdown",
   "id": "3c5c72f7-4a34-4774-b5b2-d8e277430c36",
   "metadata": {},
   "source": [
    "### 4.1 Vanilla options"
   ]
  },
  {
   "cell_type": "markdown",
   "id": "9bbd8c0b-7624-4aed-b961-f1c8c7c73f51",
   "metadata": {},
   "source": [
    "1. American option – an option that may be exercised on any trading day on or before expiration.\n",
    "2. European option – an option that may only be exercised on expiry."
   ]
  },
  {
   "cell_type": "markdown",
   "id": "809dd4e6-2447-4910-806e-4014007d7a8f",
   "metadata": {},
   "source": [
    "### 4.2 Exotics options "
   ]
  },
  {
   "cell_type": "markdown",
   "id": "8074e2f8-2a0c-4bd0-bb8d-58f9d678771e",
   "metadata": {},
   "source": [
    "1. Bermudan option – an option that may be exercised only on specified dates on or before expiration.\n",
    "2. Asian option – an option whose payoff is determined by the average underlying price over some preset time period.\n",
    "3. Barrier option – any option with the general characteristic that the underlying security's price must pass a certain level or \"barrier\" before it can be exercised.\n",
    "4. Binary option – An all-or-nothing option that pays the full amount if the underlying security meets the defined condition on expiration, otherwise, it expires."
   ]
  },
  {
   "cell_type": "markdown",
   "id": "a054bf50-3c35-45c8-b242-15f2c0b9d7a3",
   "metadata": {},
   "source": [
    "## 5 . Valuation "
   ]
  },
  {
   "cell_type": "markdown",
   "id": "5adf8161-9ed7-454f-80f8-209d2bf2513b",
   "metadata": {},
   "source": [
    "The values of option contracts depend on a number of different variables and factors such as :  rational pricing (i.e. risk neutrality), moneyness, option time value, and put–call parity."
   ]
  },
  {
   "cell_type": "markdown",
   "id": "f5505b0c-91e7-4b85-b3fe-eeac4c990c16",
   "metadata": {},
   "source": [
    "The valuation itself combines a model of the behavior (\"process\") of the underlying price with a mathematical method which returns the premium as a function of the assumed behavior"
   ]
  },
  {
   "cell_type": "markdown",
   "id": "21d93a11-b035-4286-bdf5-8cd128b5aa7c",
   "metadata": {},
   "source": [
    "### 5.1 Basic decomposition\n"
   ]
  },
  {
   "cell_type": "markdown",
   "id": "5dd45a38-8144-46a9-9ce1-4d53c8db0888",
   "metadata": {},
   "source": [
    "In its most basic terms, the value of an option is commonly decomposed into two parts:\n",
    "1. The first part is the <b>intrinsic value</b>, which is defined as the difference between the market value of the underlying, and the strike price of the given option.\n",
    "2. The second part is the <B>time value</b>, which depends on a set of other factors which, through a multi-variable, non-linear interrelationship, reflect the discounted expected value of that difference at expiration."
   ]
  },
  {
   "cell_type": "markdown",
   "id": "9a05f52b-bef3-41d1-ae64-d204c9348002",
   "metadata": {},
   "source": [
    "### 5.2 Valuation models"
   ]
  },
  {
   "cell_type": "markdown",
   "id": "4f298479-0c48-435d-b075-aace996cc977",
   "metadata": {},
   "source": [
    "Standard option valuation models depend on the following factors:\n",
    "1. The current market price of the underlying security\n",
    "2. The strike price of the option, particularly in relation to the current market price of\n",
    "3. The underlying (in the money vs. out of the money)\n",
    "4. The cost of holding a position in the underlying security, including interest and dividends\n",
    "5. The time to expiration together with any restrictions on when exercise may occur\n",
    "an estimate of the future volatility of the underlying security's price over the life of the option"
   ]
  },
  {
   "cell_type": "markdown",
   "id": "d210856e-ef22-40a9-b362-481e32810cea",
   "metadata": {},
   "source": [
    "#### Pricing models: \n"
   ]
  },
  {
   "cell_type": "markdown",
   "id": "6ea22922-87ef-4e7b-8ca9-2256de07940d",
   "metadata": {},
   "source": [
    "1. Black-Scholes \n",
    "2. Heath–Jarrow–Morton framework/ The Ho and Lee/ Pedersen/ Morgan for interest rate \n",
    "3. Heston model - Volatility \n",
    "4. ..."
   ]
  },
  {
   "cell_type": "markdown",
   "id": "5edd0daf-d712-42bc-9403-b4229c6109de",
   "metadata": {},
   "source": [
    "### 5.3 Valuation Methods:"
   ]
  },
  {
   "cell_type": "markdown",
   "id": "9e2dca7b-2337-4a61-b5cc-03c600a0a2b2",
   "metadata": {},
   "source": [
    "Once a valuation model has been chosen, there are a number of different techniques used to implement the models."
   ]
  },
  {
   "cell_type": "markdown",
   "id": "d542c8ac-828b-4233-80a2-77268742ce9c",
   "metadata": {},
   "source": [
    "#### Analytic techniques"
   ]
  },
  {
   "cell_type": "markdown",
   "id": "07f08d70-4e60-4b31-9064-a1dac7e30959",
   "metadata": {},
   "source": [
    "The Greeks :\n",
    "1. The Delta\n",
    "2. The Gamma\n",
    "3. The Theta\n",
    "4. The Vega\n",
    "5. The Rho"
   ]
  },
  {
   "cell_type": "markdown",
   "id": "67b93069-34ee-420b-88bf-205950e9e6cf",
   "metadata": {},
   "source": [
    "#### Binomial tree pricing method "
   ]
  },
  {
   "cell_type": "markdown",
   "id": "f449e5a4-c304-4f0b-99f2-e9c9b3f0e9e1",
   "metadata": {},
   "source": [
    "#### Monte Carlo method"
   ]
  },
  {
   "cell_type": "markdown",
   "id": "0695fc5e-716a-491b-bbaf-6ce0ccf89dc6",
   "metadata": {},
   "source": [
    "#### Partial differential equations/ trinominal tree pricing mrthod "
   ]
  }
 ],
 "metadata": {
  "kernelspec": {
   "display_name": "Python 3 (ipykernel)",
   "language": "python",
   "name": "python3"
  },
  "language_info": {
   "codemirror_mode": {
    "name": "ipython",
    "version": 3
   },
   "file_extension": ".py",
   "mimetype": "text/x-python",
   "name": "python",
   "nbconvert_exporter": "python",
   "pygments_lexer": "ipython3",
   "version": "3.12.3"
  }
 },
 "nbformat": 4,
 "nbformat_minor": 5
}

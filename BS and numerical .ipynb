{
 "cells": [
  {
   "cell_type": "markdown",
   "id": "f55ce488-8f48-479c-a091-53fbd03cde4b",
   "metadata": {},
   "source": [
    "# Black-Scholes and Numerical models and theirs implementations in European option"
   ]
  },
  {
   "cell_type": "markdown",
   "id": "c906e960-4f59-4f11-b483-04959f7b2e74",
   "metadata": {},
   "source": [
    "# 1. Introduction and Definitions "
   ]
  },
  {
   "cell_type": "markdown",
   "id": "d9ffa0a7-26b6-489e-bcef-42ea72c42563",
   "metadata": {},
   "source": [
    "## 1.1 European Option"
   ]
  },
  {
   "cell_type": "markdown",
   "id": "10a55269-27c9-42f9-bcdf-0e80cb6d40c6",
   "metadata": {},
   "source": [
    "### 1.1.1 European call\n",
    " "
   ]
  },
  {
   "cell_type": "markdown",
   "id": "fba4aaf1-5e20-44f2-83ae-7f7d31693ab6",
   "metadata": {},
   "source": [
    "An European call is excercised if and only if :\n",
    "<p style=\"text-align: center;\">\n",
    "    $K<S_T$\n",
    "</p>\n",
    "    "
   ]
  },
  {
   "cell_type": "markdown",
   "id": "faf6b372-52d4-4d48-bac8-2d70c9e5c428",
   "metadata": {},
   "source": [
    "Its payoff is thus :\n",
    "<p style=\"text-align: center;\">\n",
    "$max [0;S_T-K]=\\begin{cases}\n",
    "0 & \\text{if }S_T\\le K\n",
    "    \\\\  S_T - K & \\text{if }K\\le S_T \n",
    "\\end{cases}$\n",
    "                                        </p>"
   ]
  },
  {
   "cell_type": "markdown",
   "id": "738d288c-fcf4-47f0-b71f-56dff2a8802e",
   "metadata": {},
   "source": [
    "An European put is exercised if and only if : \n",
    "<p style=\"text-align: center;\">\n",
    "    $K>S_T$\n",
    "          </p>"
   ]
  },
  {
   "cell_type": "markdown",
   "id": "4f116ef5-245c-4723-a9a3-5355ddcd320e",
   "metadata": {},
   "source": [
    "Its payoff is thus :\n",
    "<p style=\"text-align: center;\">\n",
    "$max [0;K-S_T]=\\begin{cases}\n",
    "0 & \\text{if }K\\le S_T\n",
    "    \\\\ K-S_T & \\text{if }S_T\\le K\n",
    "\\end{cases}$"
   ]
  },
  {
   "cell_type": "markdown",
   "id": "c3c2ea1f-3740-4d7d-9cfe-1edd8b586864",
   "metadata": {},
   "source": [
    "Suppose a stock is non-dividend-paying underlying stock with constant $\\delta$ and $r$ , the parameters of the formula :\n",
    "1. $S$ - current stock price or spot price\n",
    "2. $K$ - Exercise or strike price\n",
    "3. $\\delta$ standard deviation/ volatility\n",
    "4. $\\mu$ - Drift rate of $S$\n",
    "5. $T$ - time for the option price to expire\n",
    "6. $t$ - time in years \n",
    "7. $r$ - risk-free interest rate\n",
    "8. $C$ - Price of an European call on the stock with strike $K$ and time $T$\n",
    "9. $P$ - Price of an European put on the stock with strike $K$ and time $T$\n",
    "10. $N$ - CDF of a standard normal random variable\n",
    "11. $V$ - The price of the option as a functio of underlying asset S at time t"
   ]
  },
  {
   "cell_type": "markdown",
   "id": "57015f5c-fe03-4f35-bc95-35ee175b51d4",
   "metadata": {},
   "source": [
    "## 1.3 Arbitrage, Replication, Risk Neutrality and Bounds"
   ]
  },
  {
   "cell_type": "markdown",
   "id": "d8fe376e-2a84-414c-9f4d-555b193b3223",
   "metadata": {},
   "source": [
    "### Arbitrage / Non-arbitrage"
   ]
  },
  {
   "cell_type": "markdown",
   "id": "6effbf13-930f-4033-9865-638f1e1c3412",
   "metadata": {},
   "source": [
    "### Replication"
   ]
  },
  {
   "cell_type": "markdown",
   "id": "b06dba65-baf4-48e0-ba25-6be7307bcb5a",
   "metadata": {},
   "source": [
    "### Risk Neutrality"
   ]
  },
  {
   "cell_type": "markdown",
   "id": "3eb3b604-2062-4735-98e2-d2d4f54abca4",
   "metadata": {},
   "source": [
    "Risk-neutrality demands ( equivalent martingale measure) \n",
    "<p style=\"text-align: center;\">\n",
    "$𝑆_n𝑒^{𝑟 \\Delta t }= 𝑝𝑆𝑢_n + (1 − 𝑝) 𝑆d_n$\n",
    "</p>\n",
    "Equation reflects that discounted expected return equals current price"
   ]
  },
  {
   "cell_type": "markdown",
   "id": "776efc06-c358-4e30-9b44-1605d0a274c3",
   "metadata": {},
   "source": [
    "### Bounds"
   ]
  },
  {
   "cell_type": "markdown",
   "id": "37402635-ba81-46a5-9187-edcf567adef3",
   "metadata": {},
   "source": [
    "Without dividends :\n",
    "<p style=\"text-align: center;\">\n",
    "    $S>C>max [S-K,0]$\n",
    "          </p>\n",
    "With devidends :\n",
    "<p style=\"text-align: center;\">\n",
    "    $S> C > max[S-KB_T - PV(div),0]$\n",
    "          </p>\n",
    "    "
   ]
  },
  {
   "cell_type": "markdown",
   "id": "410992b1-fa2e-4391-9060-e760f367a48a",
   "metadata": {},
   "source": [
    "# 2 Black-Scholes model"
   ]
  },
  {
   "cell_type": "markdown",
   "id": "ae00d3a4-7df4-47c4-844b-0ff825f30365",
   "metadata": {},
   "source": [
    "The Black-Scholes Model is a model of option pricing asset on underlaying asset using specifically for the European Option. The model is widely used because of its simplicity in obtaining the option price analytically. The are many ways  to solve the Black-Scholes model, such as binomial tree method, an implicit and explicit method"
   ]
  },
  {
   "cell_type": "markdown",
   "id": "b9c4b078-d706-4716-9aaf-b4374b47ce72",
   "metadata": {},
   "source": [
    "Propreties of Black-Scholes models :\n",
    "1. The stock price follows the process developed stochastic process with 𝜇, and 𝜎 constant.\n",
    "2. The short selling of securities with full use of proceeds is permitted.\n",
    "3. There are no transactions cost or taxes. All securities are perfectly divisible.\n",
    "4. There are no dividends during the life of the derivative.\n",
    "5. There are no riskless arbitrage opportunities.\n",
    "6. Security trading is continuous.\n",
    "7. The risk-free rate of interest, r, is constant and the same for all maturities."
   ]
  },
  {
   "cell_type": "markdown",
   "id": "596ddaeb-7f88-4c14-8204-bde4004c5327",
   "metadata": {},
   "source": [
    "### 2.1 Black-Scholes equation :"
   ]
  },
  {
   "cell_type": "markdown",
   "id": "2506797b-6ce7-41ee-8662-5cbfeaf23bc9",
   "metadata": {},
   "source": [
    " Black–Scholes–Merton equation, is a partial differential equation (PDE) governing the price evolution of derivatives under the Black–Scholes model"
   ]
  },
  {
   "cell_type": "markdown",
   "id": "4b1a6113-4237-46c3-b31a-4ec8a82c52e0",
   "metadata": {},
   "source": [
    "<p style=\"text-align: center;\">\n",
    "    $ \\frac{\\delta V}{\\delta t} + \\frac{1}{2}\\delta^2 S^2 \\frac{\\delta^2V}{\\delta S^2} - rV = 0$\n",
    "</p>"
   ]
  },
  {
   "cell_type": "markdown",
   "id": "2db60030-1144-4f0b-8319-3a5b9791ca46",
   "metadata": {},
   "source": [
    "Stochastic Differetial Equation (SDE)"
   ]
  },
  {
   "cell_type": "markdown",
   "id": "3b435dcd-91d9-4b18-bcf7-b49cb003d94d",
   "metadata": {},
   "source": [
    "<p style=\"text-align: center;\">\n",
    "    $ dS_t= \\mu S_tdt+ \\sigma S_tdB_t$\n",
    "</p>"
   ]
  },
  {
   "cell_type": "markdown",
   "id": "d162379c-3b9f-4508-9bd7-3a4451fb0330",
   "metadata": {},
   "source": [
    "### 2.2 Black-Scholes pricing formula"
   ]
  },
  {
   "cell_type": "markdown",
   "id": "b8c40efa-f5f2-4421-81ef-39fe718c98e7",
   "metadata": {},
   "source": [
    "This formula con be ontained by solving the BSM equation using the boundary condition, for European call option's price :"
   ]
  },
  {
   "cell_type": "markdown",
   "id": "ace5b817-91ca-4ebc-88cd-8bad8918e20c",
   "metadata": {},
   "source": [
    "<p style=\"text-align: center;\">\n",
    "$C(T,S,K,r,\\delta)$ = $SN(d_1) - Ke^{-r(T-1)} N(d_2)$\n",
    "</p>"
   ]
  },
  {
   "cell_type": "markdown",
   "id": "aeec19d1-3104-46b5-8b21-f562688cb2e9",
   "metadata": {},
   "source": [
    "with "
   ]
  },
  {
   "cell_type": "markdown",
   "id": "ff690eb5-bd77-4f59-a25f-5b8c34f81755",
   "metadata": {},
   "source": [
    "<p style=\"text-align: center;\">\n",
    "$\n",
    "    d_1 = \\frac{1}{\\sigma \\sqrt{T-t}}[ \\log (\\frac{S}{K} ) + (r + \\frac{\\sigma^2}{2}) (T-t) ]   \n",
    "$\n",
    "</p>"
   ]
  },
  {
   "cell_type": "markdown",
   "id": "751106d2-ad89-4656-b1e3-aed064c3a3a4",
   "metadata": {},
   "source": [
    "and"
   ]
  },
  {
   "cell_type": "markdown",
   "id": "bd66bb69-4d05-4bf1-8bf7-57f982c81a82",
   "metadata": {},
   "source": [
    "<p style=\"text-align: center;\">\n",
    "    $d_2 = d_1 - \\sigma\\sqrt{T-t} $\n",
    "</p>"
   ]
  },
  {
   "cell_type": "markdown",
   "id": "915d4404-6041-4aa3-9ceb-1589ccc47508",
   "metadata": {},
   "source": [
    "and :"
   ]
  },
  {
   "cell_type": "markdown",
   "id": "0a42990a-e7c4-41b7-83ac-366fcf26fbd4",
   "metadata": {},
   "source": [
    "<p style=\"text-align: center;\">\n",
    "    $N= \\frac{1}{\\sqrt{2\\pi}} \\int_\\infty^d  exp(\\frac{-t^2}{2})dt  $\n",
    "</p>"
   ]
  },
  {
   "cell_type": "markdown",
   "id": "26278a24-fe39-49b3-9c77-8750df1e9f8f",
   "metadata": {},
   "source": [
    "For European option put : "
   ]
  },
  {
   "cell_type": "markdown",
   "id": "c0facf5f-c5bc-4241-b18b-e928fbdd055d",
   "metadata": {},
   "source": [
    "<p style=\"text-align: center;\">\n",
    "$P(t,T,S,K,r,\\delta)$ = $Ke^{-r(T-t)} N(d_2)-SN(d_1) $\n",
    "</p>"
   ]
  },
  {
   "cell_type": "markdown",
   "id": "146a0305-996f-4fc0-82f0-47d822e9596b",
   "metadata": {},
   "source": [
    "### 2.3 Function "
   ]
  },
  {
   "cell_type": "code",
   "execution_count": 2,
   "id": "d13f9c0a-9f37-4d1a-8667-8332a7b03c44",
   "metadata": {},
   "outputs": [],
   "source": [
    "import numpy as np\n",
    "import scipy.stats as ss\n",
    "from scipy.stats import norm\n",
    "import matplotlib.pyplot as plt"
   ]
  },
  {
   "cell_type": "code",
   "execution_count": 51,
   "id": "b7d5ff99-2993-4554-825d-a1087034d64b",
   "metadata": {},
   "outputs": [],
   "source": [
    "#r =interest free rate\n",
    "#S = stock price\n",
    "#K =strike price\n",
    "#T = time in years\n",
    "#sigma voltatility\n",
    "#mu = drift rate of S mu=(s1-s0)/s0"
   ]
  },
  {
   "cell_type": "code",
   "execution_count": 2,
   "id": "678d0dec-c7ff-40a3-9e82-c0835bd3f687",
   "metadata": {},
   "outputs": [],
   "source": [
    "r = .04 #interest free rate\n",
    "S = 20 #stock price\n",
    "K = 30 #strike price\n",
    "T = 40/365 #time in years\n",
    "sigma = .40\n",
    "t=0\n",
    "mu=0"
   ]
  },
  {
   "cell_type": "code",
   "execution_count": 3,
   "id": "0380d04b-86d1-47c5-9c6d-a221372dd3e1",
   "metadata": {},
   "outputs": [
    {
     "name": "stdout",
     "output_type": "stream",
     "text": [
      "Call option is  -0.4500887725733804\n",
      "Put option is  3.6116384010582685\n"
     ]
    }
   ],
   "source": [
    "def blackscholes_test (t,r,S,K,T,sigma,mu):\n",
    "    d1= 1/sigma*(np.sqrt(T-t))*(np.log(S/K) + (r+ (sigma**2/2)*T)/(sigma*np.sqrt(T-t)))\n",
    "    d2= d1- sigma*np.sqrt(T-t)\n",
    "    call = S*norm.cdf(d1,0,1)-K*np.exp(-r*(T-t))*norm.cdf(d2,mu,sigma)\n",
    "    print('Call option is ',call)\n",
    "    put= K*np.exp(-r*(T-t))*norm.cdf(d2,0,1)-S*norm.cdf(d1,mu,sigma)\n",
    "    print('Put option is ',put)\n",
    "  \n",
    "blackscholes_test(t,r,S,K,T,sigma,mu)\n"
   ]
  },
  {
   "cell_type": "code",
   "execution_count": 9,
   "id": "27799cc0-6824-42a9-aec4-556eacef3e36",
   "metadata": {
    "scrolled": true
   },
   "outputs": [
    {
     "name": "stdout",
     "output_type": "stream",
     "text": [
      "Call option [0.45759514163525594, 0.2237166062788969, 0.8898288383116943, 1.6190025409282103]\n",
      "Put option [-2.5960832465413337, 0.34895045535637803, -0.24132854465419395, -0.9157507909451073]\n"
     ]
    }
   ],
   "source": [
    "#Fucntion test \n",
    "import Pricing, Verification \n",
    "from Pricing import BlackScholes, Binomial\n",
    "from Verification import Parity \n",
    "\n",
    "\n",
    "S = [5,4,6,8]\n",
    "K = 5 #strike price\n",
    "T = 40/365 #time in years\n",
    "r = .04\n",
    "t=0\n",
    "n=3\n",
    "\n",
    "put,call= BlackScholes.blackscholes(t,r,S,K,T)\n",
    "print('Call option', call)\n",
    "print('Put option', put)\n",
    "\n",
    "\n"
   ]
  },
  {
   "cell_type": "markdown",
   "id": "c7ec644e-3e77-41e9-a4c7-e80680ae017e",
   "metadata": {},
   "source": [
    "#### Verification : Put-Call parity \n",
    "<p style=\"text-align: center;\">\n",
    "$Call-Put= S_0-Ke^{-rT}$\n",
    "</p>"
   ]
  },
  {
   "cell_type": "code",
   "execution_count": 5,
   "id": "5a8b9c2e-3aad-40a6-93de-de3267e19844",
   "metadata": {},
   "outputs": [
    {
     "name": "stdout",
     "output_type": "stream",
     "text": [
      "Results unverified \n",
      "None\n"
     ]
    }
   ],
   "source": [
    "print(Parity.ver (put,call,S,K,r,T))"
   ]
  },
  {
   "cell_type": "markdown",
   "id": "73613392-a596-49e0-a8fd-e4dcdaeab700",
   "metadata": {},
   "source": [
    "# 3. Numerical Integration "
   ]
  },
  {
   "cell_type": "markdown",
   "id": "3d1ff9f6-434b-4515-991a-f86e8c549550",
   "metadata": {},
   "source": [
    "## 3.1 Binomial tree (CRR method)"
   ]
  },
  {
   "cell_type": "markdown",
   "id": "38ca5fad-4c7c-4432-9276-e565742807a9",
   "metadata": {},
   "source": [
    "The option price is determined based on a no-arbitrage argument by having a current stock price $S_0$ and option price $V_0$. 0. The option will be exercised at maturity time $T$. During the life of option, the stock price can either increase or decrease.(~ Bernoulli Random Walk).  Following this model, noarbitrage and risk neutral principles crucial parameters are obtained\n"
   ]
  },
  {
   "cell_type": "markdown",
   "id": "6977f0cb-a730-45c5-8574-bb80919db74b",
   "metadata": {},
   "source": [
    "Valuation is performed iteratively, starting at each of the final nodes (those that may be reached at the time of expiration), and then working backwards through the tree towards the first node (valuation date). The value computed at each stage is the value of the option at that point in time."
   ]
  },
  {
   "cell_type": "markdown",
   "id": "9205fe1a-d058-4c0a-86e5-7afb4b11b533",
   "metadata": {},
   "source": [
    "The movement of stock price is driven by an increasing factor $(u)$ or a decreasing factor $(d)$. The movement of stock price at $(Sn)$ time step and possible $m$ values is written as :\n",
    "<p style=\"text-align: center;\">\n",
    "    $S = d^{m-n} u^n S_0$\n",
    "          </p>\n",
    "with<p style=\"text-align: center;\"> $n=0,1,2,...,m$ </p>   "
   ]
  },
  {
   "cell_type": "markdown",
   "id": "a9da60dd-8ba7-4e53-b1de-2b9d2c97d201",
   "metadata": {},
   "source": [
    "Aligned to the movement of stock price $S$, the payoffs of the option are $Vn(u)$ when the stock price increases and $Vn(d)$ when the stock price decreases ."
   ]
  },
  {
   "cell_type": "markdown",
   "id": "78dcd073-ad29-40e7-9c90-cc5229c8a730",
   "metadata": {},
   "source": [
    "A <b>riskless portfolio</b> consists of a long position in the variation of shares and a short position in one option"
   ]
  },
  {
   "cell_type": "markdown",
   "id": "9035f649-5aff-4417-b498-f1544caa65f7",
   "metadata": {},
   "source": [
    "The value of option at maturity due to the stock price movement or payoff is\n",
    "<p style=\"text-align: center;\">\n",
    "$V_n=\n",
    "    \\begin{cases}\n",
    "V_n(u) = max [K-uS_0,0] & \\text{if $S$ up}\n",
    "    \\\\ V_n(d) = max [K-dS_0,0] & \\text{if $S$ down}\n",
    "\\end{cases}$"
   ]
  },
  {
   "cell_type": "markdown",
   "id": "0de85338-707e-46d3-88e9-27b7e70b9eef",
   "metadata": {},
   "source": [
    "Consider the variation of shares( the ratio of the change in option price to\n",
    "the change in stock price for between nodes movement) is $\\Delta$  \n",
    "<p style=\"text-align: center;\">\n",
    "    $\\Delta = \\frac{V_n(u)- V_n(d)}{S_0u-S_0d} $\n",
    "          </p>"
   ]
  },
  {
   "cell_type": "markdown",
   "id": "27f5d113-84c8-4d0c-b828-8fd174c74273",
   "metadata": {},
   "source": [
    "## 3.2 One-Step Binomial Tree"
   ]
  },
  {
   "cell_type": "markdown",
   "id": "859e4152-6117-4200-8a91-66531d3e2d88",
   "metadata": {},
   "source": [
    "Suppose :\n",
    "1. The current stock price is $S_0$\n",
    "2. The current option is $f$\n",
    "3. Time period (exiration time)$T$\n",
    "4. $n$ Height of the binomial tree\n",
    "5. $\\Delta t$ = $\\frac{T}{n}$\n",
    "6. At the end of the next time period, the stock price will be either $S_0u$ or $S_0d$, where $u$>1 and $d$<1\n",
    "7. $u$-1 represents a percentage increase and $d$−1 represents a percentage decrease.\n",
    "8. The option values at the end of next time period are either $f_u$ or $f_d$\n",
    "9. $V$ current cost of the porfolio\n",
    "10. The present value of the portfolio payoff is $\\left(S_0 u \\Delta - f_u\\right) e^{-r\\Delta t}$"
   ]
  },
  {
   "cell_type": "markdown",
   "id": "3c2b6b7c-7a64-4894-9182-29fb6489da9a",
   "metadata": {},
   "source": [
    "Equating cost and value of the portfolio "
   ]
  },
  {
   "cell_type": "markdown",
   "id": "856b3bf2-0b69-4851-94db-9f076e8f9268",
   "metadata": {},
   "source": [
    "<p style=\"text-align: center;\"> $\\begin{align}\n",
    "   S_0 \\Delta - f & = V = \\left(S_0 u \\Delta - f_u\\right) e^{-r\\Delta t} \\\\\n",
    "   \\Rightarrow f & = S_0 \\Delta \\left(1-u e^{-r\\Delta t}\\right) + f_u\n",
    "   e^{-r\\Delta t} \\\\\n",
    "   & = S_0 \\frac{f_u-f_d}{S_0 u - S_0 d} \\left(1-u e^{-r\\Delta t}\\right) +\n",
    "   f_u e^{-r\\Delta t} \\\\\n",
    "   & = \\frac{f_u\\left(1-d e^{-r\\Delta t}\\right) + f_d\\left(u e^{-r\\Delta t} -\n",
    "   1\\right)}{u-d} \\\\\n",
    "   & = e^{-r\\Delta t} \\left(p f_u + (1-p) f_d\\right),\n",
    "   \\end{align}$</p>"
   ]
  },
  {
   "cell_type": "markdown",
   "id": "5329adf4-e9d0-4df4-9e33-a66d3039d55a",
   "metadata": {},
   "source": [
    "where\n",
    "<p style=\"text-align: center;\">$p= \\frac{e^{r\\Delta t}-d}{u-d}$</p>"
   ]
  },
  {
   "cell_type": "markdown",
   "id": "4aac7a58-fe2f-437e-93ea-b1bac55cf8dd",
   "metadata": {},
   "source": [
    "## 3.3 CRR(Cox, Ross, Rubbenstein)"
   ]
  },
  {
   "cell_type": "markdown",
   "id": "ffb99499-0433-47e5-8fbc-4859b7038620",
   "metadata": {},
   "source": [
    "Risk-neutrality demands ( equivalent martingale measure) \n",
    "<p style=\"text-align: center;\">\n",
    "$𝑆_n𝑒^{𝑟 \\Delta t }= 𝑝𝑆𝑢_n + (1 − 𝑝) 𝑆d_n$\n",
    "</p>\n",
    "Equation reflects that discounted expected return equals current price"
   ]
  },
  {
   "cell_type": "markdown",
   "id": "8e2244e1-26be-400e-b09e-8697e2aa118e",
   "metadata": {},
   "source": [
    "with"
   ]
  },
  {
   "cell_type": "markdown",
   "id": "6dfb228b-858b-4b2d-8e31-e2e460f200d2",
   "metadata": {},
   "source": [
    "<p style=\"text-align: center;\">\n",
    "    $e^{r\\Delta t}=pu = (1-p)d$\n",
    "</p>\n",
    "and condition introduced by CRR :\n",
    "<p style=\"text-align: center;\">\n",
    "    $u = \\frac{1}{d}$\n",
    "</p>"
   ]
  },
  {
   "cell_type": "markdown",
   "id": "2f1d8cf3-2745-40c1-bc47-0f79237fa7e7",
   "metadata": {},
   "source": [
    "Following we obtained :"
   ]
  },
  {
   "cell_type": "markdown",
   "id": "6fa93636-2cf8-4f6c-8e13-d5837561ee47",
   "metadata": {},
   "source": [
    "<p style=\"text-align: center;\">\n",
    " $u = e^{\\sigma \\sqrt{\\Delta t}}$\n",
    "</p>"
   ]
  },
  {
   "cell_type": "markdown",
   "id": "03e017c3-3b93-4147-a7f1-b67d4b555f3f",
   "metadata": {},
   "source": [
    "<p style=\"text-align: center;\">\n",
    " $d = e^{-\\sigma \\sqrt{\\Delta t}}$\n",
    "</p>"
   ]
  },
  {
   "cell_type": "markdown",
   "id": "49fa3a9b-838c-4138-97c6-1d0fb0914a5f",
   "metadata": {},
   "source": [
    "This property also allows the value of the underlying asset at each node to be calculated directly via formula, and does not require that the tree be built first. The node-value will be:"
   ]
  },
  {
   "cell_type": "markdown",
   "id": "5cb244fa-61de-49bf-8803-2c8a82930b7e",
   "metadata": {},
   "source": [
    "<p style=\"text-align: center;\">\n",
    "    $f_{u_n}=S_u= S_0 u^{n_u}$\n",
    "    <br> $f_{d_n}=S_d= S_0 d^{n_d}$\n",
    "</p>"
   ]
  },
  {
   "cell_type": "markdown",
   "id": "65711762-c742-40b7-abb0-844f3aad1c07",
   "metadata": {},
   "source": [
    "with $n_u$ and $n_d$ number of up and down ticks"
   ]
  },
  {
   "cell_type": "markdown",
   "id": "eccd466b-540c-4b11-86dd-19a1f859ce21",
   "metadata": {},
   "source": [
    "We now calculate the <b>Option value of each final nodes</b> of the tree—i.e. at expiration of the option—the option value is simply its intrinsic, or exercise, value:"
   ]
  },
  {
   "cell_type": "markdown",
   "id": "fc8919d0-5736-4800-903c-b541e3daec77",
   "metadata": {},
   "source": [
    "<p style=\"text-align: center;\">\n",
    "    $Call_n= max[(S_n-K),0] $\n",
    "   <br> $Put_n= max[(K-S_n),0] $\n",
    "</p>"
   ]
  },
  {
   "cell_type": "markdown",
   "id": "f2df046c-3ca9-4a37-b3ac-09be2c7496d6",
   "metadata": {},
   "source": [
    "We can calcualte the option value for the <b>earlier nodes</b> from the previous formula  : \n",
    "<p style=\"text-align: center;\">\n",
    "    $Call_0= f_{u_n-1,d_n-1}= e^{-r\\Delta t}(pf_{u_n}+(1-p)f_{d_n})$\n",
    "   \n",
    "</p>"
   ]
  },
  {
   "cell_type": "markdown",
   "id": "abdd3a38-6ccc-418b-9aa3-baac3ccdab60",
   "metadata": {},
   "source": [
    "## 3.4 Function "
   ]
  },
  {
   "cell_type": "code",
   "execution_count": null,
   "id": "6370da6e-8257-4b6e-9e83-1bfb5cd27d51",
   "metadata": {},
   "outputs": [],
   "source": [
    "#T... expiration time\n",
    "#S... stock price\n",
    "#K... strike price\n",
    "#r... interest rate\n",
    "#sigma... volatility of the stock price\n",
    "#q... dividend yield (For european option, the dividends is 0)\n",
    "#n... height of the binomial tree"
   ]
  },
  {
   "cell_type": "code",
   "execution_count": 8,
   "id": "b9286b19-27c0-4342-bbbf-7db36aca4247",
   "metadata": {
    "scrolled": true
   },
   "outputs": [
    {
     "name": "stdout",
     "output_type": "stream",
     "text": [
      "Call test option 2 is  1.620397904996788\n",
      "Put test option 2 is 1.6251402404644018\n"
     ]
    }
   ],
   "source": [
    "# Tbh at this point I'm not so sure if I correctly translate the payoff formula into this function\n",
    "def binomial_2(T,S,K,r,n) :\n",
    "    delta= float(T)/n\n",
    "    sigma= np.std(S)\n",
    "    u = np.exp(sigma*np.sqrt(delta))#up factor\n",
    "    d=1.0/u#down factor\n",
    "    a=np.exp(r*delta)\n",
    "    p = (a - d) / (u - d)  # risk neutral up probability\n",
    "    q = 1.0 - p  # risk neutral down probability\n",
    "    S_fin=([(S[i]* u**j * d ** (n- j)) for i in range (0,len(S)) for j in range (n+1)])\n",
    "    call= ([np.maximum(S_fin[i]-K,0.0) for i in range (len(S_fin))])\n",
    "    put= ([np.maximum(K-S_fin[i],0.0) for i in range (len(S_fin))])\n",
    "    for i in range(n- 1, -1, -1):\n",
    "        call_i= np.exp(-r * delta) * (p * call[i] + q * put[i])\n",
    "        put_i= np.exp(r * delta) * (p * call[i] + q * put[i])\n",
    "    return call_i,put_i\n",
    "\n",
    "Call_2,Put_2=binomial_2(T,S,K,r,n)\n",
    "print(\"Call test option 2 is \" , Call_2)\n",
    "print(\"Put test option 2 is\",Put_2)"
   ]
  },
  {
   "cell_type": "code",
   "execution_count": 11,
   "id": "20615238-65c5-4f76-a690-549134aeed2c",
   "metadata": {},
   "outputs": [
    {
     "name": "stdout",
     "output_type": "stream",
     "text": [
      "Call 1.620397904996788\n",
      "Put 1.6251402404644018\n"
     ]
    }
   ],
   "source": [
    "Call, Put= Binomial.binomial(T,S,K,r,n)\n",
    "print(\"Call\",Call)\n",
    "print(\"Put\",Put)"
   ]
  },
  {
   "cell_type": "markdown",
   "id": "971cd957-ae44-4dc4-ba1b-4fcccf59af89",
   "metadata": {},
   "source": [
    "## 4. Monte Carlo method"
   ]
  },
  {
   "cell_type": "markdown",
   "id": "41569d67-3fb3-44c1-a166-89bdccf1d292",
   "metadata": {},
   "source": [
    "Monte Carlo Simulation method can be applied for European option. Again, the stock price in this method follows approximately a Geometric Brownian Motion random walk: "
   ]
  },
  {
   "cell_type": "markdown",
   "id": "b90cd5a4-6655-4d47-a990-397472bee2d4",
   "metadata": {},
   "source": [
    "<p style=\"text-align: center;\">\n",
    "    $ S_T^i= S_0e^{(r-\\frac{\\delta^2}{2})T + \\delta W_T^i}$  \n",
    "</p>\n",
    "\n",
    "with $W_T^i$ ~ $N(0,\\delta^2)$ - Wiener process or standard Brownain motion, has a Gaussian increments with mean 0 and variance \n",
    "\n",
    "$T$ - is the time step on 365 days\n"
   ]
  },
  {
   "cell_type": "markdown",
   "id": "3a7d9330-cbf2-4006-8b22-429753697756",
   "metadata": {},
   "source": [
    "We can find the option pricing with the Monte Carlo with the following steps: "
   ]
  },
  {
   "cell_type": "markdown",
   "id": "cc36ca94-4fcb-4b6e-944e-2019ea0261f4",
   "metadata": {},
   "source": [
    "1. Calculate the stock price at time $T$"
   ]
  },
  {
   "cell_type": "markdown",
   "id": "61a09308-1a6b-458f-be15-aca15f0a2e97",
   "metadata": {},
   "source": [
    "2. Calculate the payoff of the option at expiration "
   ]
  },
  {
   "cell_type": "markdown",
   "id": "caf2a8c5-8fc1-4448-98f8-293587d4e143",
   "metadata": {},
   "source": [
    "<p style=\"text-align: center;\">\n",
    "    $Call_T= max[(S_T-K),0] $\n",
    "   <br> $Put_T= max[(K-S_T),0] $\n",
    "</p>"
   ]
  },
  {
   "cell_type": "markdown",
   "id": "5739ee4c-6f52-4809-9510-436c9caf6579",
   "metadata": {},
   "source": [
    "3. Discount the payoffs back to the present value using the risk-free interest rate."
   ]
  },
  {
   "cell_type": "markdown",
   "id": "1ddc7c43-8c3e-45c0-ac53-11026c977bac",
   "metadata": {},
   "source": [
    "<p style=\"text-align: center;\">\n",
    "    $Call_0= Call_T e^{-rT} $\n",
    "   <br> $Put_0= Put_T e^{-rT} $\n",
    "</p>"
   ]
  },
  {
   "cell_type": "markdown",
   "id": "c06f8ffe-2507-4b6b-a698-02c87e0407b2",
   "metadata": {},
   "source": [
    "So here is the basic formula to calculate the option price with the Monte Carto Method for one sible simulation ($N$ = 1). For $N$ simulation, the final option price is the mean of $N$ simulations options prices\n",
    "<p style=\"text-align: center;\">\n",
    "    $Call_0= \\frac{1}{N}\\sum Call_T e^{-rT} $\n",
    "   <br> $Put_0= \\frac{1}{N}\\sum Put_T e^{-rT} $\n",
    "</p>"
   ]
  },
  {
   "cell_type": "code",
   "execution_count": 3,
   "id": "7e56ba56-b9ec-4548-90b5-3c75ed24bd22",
   "metadata": {},
   "outputs": [],
   "source": [
    "#T... expiration time\n",
    "#S... stock price\n",
    "#K... strike price\n",
    "#r... risk-free interest rate\n",
    "#sigma... volatility of the stock price\n",
    "#n... number of simulation"
   ]
  },
  {
   "cell_type": "code",
   "execution_count": 13,
   "id": "148a1a6b-62a6-40bb-8602-17e6794e7fd7",
   "metadata": {},
   "outputs": [
    {
     "name": "stdout",
     "output_type": "stream",
     "text": [
      "Call option test is : 0.0\n",
      "Put option test is : 69.93413836897128\n"
     ]
    }
   ],
   "source": [
    "def mc_test(T,S,K,r,n):\n",
    "    delta = T/365\n",
    "    sigma= np.std(S)\n",
    "    mu=np.mean(S)\n",
    "    W= np.random.normal(mu, sigma**2, n)\n",
    "    drift= r-0.5*sigma**2\n",
    "    final_price= S*np.exp(drift*delta-sigma*W)\n",
    "    call_t=np.mean( np.maximum(final_price-K,0))\n",
    "    put_t=np.mean(np.maximum(K-final_price,0))\n",
    "    return call_t, put_t\n",
    "\n",
    "\n",
    "T=30\n",
    "S=20\n",
    "K=90\n",
    "r=0.04\n",
    "n=10\n",
    "call,put=mc_test(T,S,K,r,n)\n",
    "print (\"Call option test is :\",call)\n",
    "print(\"Put option test is :\", put)"
   ]
  },
  {
   "cell_type": "code",
   "execution_count": 5,
   "id": "96fcee19-fe79-47ee-8fd3-13abe1169dd9",
   "metadata": {},
   "outputs": [
    {
     "name": "stdout",
     "output_type": "stream",
     "text": [
      "Call option: 1.2843749875988735e+73\n",
      "Put option 17.49999999999978\n",
      "Call error: 0.0\n",
      "Put error:  0.0\n",
      "None\n"
     ]
    }
   ],
   "source": [
    "import Pricing, Verification\n",
    "from Pricing import MonteCarlo\n",
    "from Verification import MC_Error\n",
    "T=30\n",
    "S=[20,30,40]\n",
    "K=25\n",
    "r=0.04\n",
    "n=10\n",
    "call,put= MonteCarlo.monte_carlo(T,S,K,r,n)\n",
    "check=MC_Error.error(call,put)\n",
    "print(check)"
   ]
  },
  {
   "cell_type": "markdown",
   "id": "300306a7-be0e-4319-ad3f-f3da94f500b2",
   "metadata": {
    "jp-MarkdownHeadingCollapsed": true
   },
   "source": [
    "## Reference \n",
    "1. Comparison of Numerical Methods on Pricing of European Put Options- Lutfi Mardianto, Aditya Putra Pratama, Annisa Rahmita Soemarsono, Amirul Hakam and Endah Rokhmati Merdika Put\n",
    "2. Analystprep\n",
    "3. Financial Models Numerical Methods - cantaro86 - Github\n",
    "4. https://ealdrich.github.io/Teaching/Econ236/LectureNotes/_sources/binomialTree.txt"
   ]
  }
 ],
 "metadata": {
  "kernelspec": {
   "display_name": "Python 3 (ipykernel)",
   "language": "python",
   "name": "python3"
  },
  "language_info": {
   "codemirror_mode": {
    "name": "ipython",
    "version": 3
   },
   "file_extension": ".py",
   "mimetype": "text/x-python",
   "name": "python",
   "nbconvert_exporter": "python",
   "pygments_lexer": "ipython3",
   "version": "3.12.3"
  }
 },
 "nbformat": 4,
 "nbformat_minor": 5
}
